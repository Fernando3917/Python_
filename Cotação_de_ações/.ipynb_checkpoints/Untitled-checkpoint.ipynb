{
 "cells": [
  {
   "cell_type": "code",
   "execution_count": 3,
   "id": "5b772cac",
   "metadata": {},
   "outputs": [
    {
     "ename": "SyntaxError",
     "evalue": "invalid syntax (313491397.py, line 2)",
     "output_type": "error",
     "traceback": [
      "\u001b[1;36m  Input \u001b[1;32mIn [3]\u001b[1;36m\u001b[0m\n\u001b[1;33m    from pandas as pd\u001b[0m\n\u001b[1;37m                ^\u001b[0m\n\u001b[1;31mSyntaxError\u001b[0m\u001b[1;31m:\u001b[0m invalid syntax\n"
     ]
    }
   ],
   "source": [
    "from pandas_datareader import data as web\n",
    "from pandas as pd\n",
    "from matplotlib.pyplot as plt\n",
    "\n",
    "cotacao_bovespa = web.DataReader('^BVSP', Data_source='yahoo', start=\"01/01/2020\", end=\"01/01/2022\")\n",
    "display(catacao_bovespa)"
   ]
  },
  {
   "cell_type": "code",
   "execution_count": null,
   "id": "d9ccafb1",
   "metadata": {},
   "outputs": [],
   "source": []
  }
 ],
 "metadata": {
  "kernelspec": {
   "display_name": "Python 3 (ipykernel)",
   "language": "python",
   "name": "python3"
  },
  "language_info": {
   "codemirror_mode": {
    "name": "ipython",
    "version": 3
   },
   "file_extension": ".py",
   "mimetype": "text/x-python",
   "name": "python",
   "nbconvert_exporter": "python",
   "pygments_lexer": "ipython3",
   "version": "3.9.12"
  }
 },
 "nbformat": 4,
 "nbformat_minor": 5
}
